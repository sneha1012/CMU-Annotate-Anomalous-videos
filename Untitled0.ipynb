{
  "nbformat": 4,
  "nbformat_minor": 0,
  "metadata": {
    "colab": {
      "provenance": [],
      "authorship_tag": "ABX9TyOo+NG8pwzE7kYfCyFIwJy6",
      "include_colab_link": true
    },
    "kernelspec": {
      "name": "python3",
      "display_name": "Python 3"
    },
    "language_info": {
      "name": "python"
    }
  },
  "cells": [
    {
      "cell_type": "markdown",
      "metadata": {
        "id": "view-in-github",
        "colab_type": "text"
      },
      "source": [
        "<a href=\"https://colab.research.google.com/github/sneha1012/CMU-Annotate-Anomalous-videos/blob/main/Untitled0.ipynb\" target=\"_parent\"><img src=\"https://colab.research.google.com/assets/colab-badge.svg\" alt=\"Open In Colab\"/></a>"
      ]
    },
    {
      "cell_type": "code",
      "execution_count": 1,
      "metadata": {
        "colab": {
          "base_uri": "https://localhost:8080/"
        },
        "id": "IJHl_9it5uZp",
        "outputId": "fa19a766-892f-49dd-b020-2a3bc6cc9517"
      },
      "outputs": [
        {
          "output_type": "stream",
          "name": "stdout",
          "text": [
            "Requirement already satisfied: opencv-python-headless in /usr/local/lib/python3.10/dist-packages (4.8.1.78)\n",
            "Requirement already satisfied: numpy>=1.21.2 in /usr/local/lib/python3.10/dist-packages (from opencv-python-headless) (1.23.5)\n"
          ]
        }
      ],
      "source": [
        "pip install opencv-python-headless\n"
      ]
    },
    {
      "cell_type": "code",
      "source": [
        "from google.colab import drive\n",
        "drive.mount('/content/drive')"
      ],
      "metadata": {
        "colab": {
          "base_uri": "https://localhost:8080/"
        },
        "id": "UMfV5MjI5xN_",
        "outputId": "4c49c9cb-8f92-4c50-d175-f06dbd2dd925"
      },
      "execution_count": 2,
      "outputs": [
        {
          "output_type": "stream",
          "name": "stdout",
          "text": [
            "Mounted at /content/drive\n"
          ]
        }
      ]
    },
    {
      "cell_type": "code",
      "source": [
        "import os\n",
        "\n",
        "# Path to the 'Abnormal4' folder\n",
        "folder_path = '/content/drive/My Drive/Abnormal4/'\n",
        "\n",
        "# List all mp4 files in the folder\n",
        "video_files = [f for f in os.listdir(folder_path) if f.endswith('.mp4')]\n",
        "for file in video_files:\n",
        "    print(file)\n"
      ],
      "metadata": {
        "colab": {
          "base_uri": "https://localhost:8080/"
        },
        "id": "MupLGKCq56HE",
        "outputId": "200b4b76-d037-49d6-8c55-42ec16f1b78d"
      },
      "execution_count": 3,
      "outputs": [
        {
          "output_type": "stream",
          "name": "stdout",
          "text": [
            "2023-06-05_15-10-28.mp4\n",
            "2023-06-05_15-49-31(CroppedTrimmed).mp4\n",
            "2023-06-05_15-20-02.mp4\n",
            "2023-06-05_16-07-02.mp4\n",
            "2023-06-05_15-04-07.mp4\n",
            "2023-06-05_15-26-03_(online-video-cutter.com).mp4\n",
            "2023-06-05_15-44-09(CroppedTrimmed).mp4\n",
            "2023-06-05_15-12-38.mp4\n",
            "2023-06-05_15-16-12.mp4\n",
            "2023-06-05_14-56-2.mp4\n",
            "2023-06-05_15-20-5.mp4\n",
            "2023-06-05_15-17-08.mp4\n",
            "2023-06-05_15-09-31.mp4\n",
            "2023-06-05_15-58-13.mp4\n",
            "2023-06-05_15-40-03(CroppedTrimmed).mp4\n",
            "2023-06-05_15-53-42.mp4\n",
            "2023-06-05_15-11-47.mp4\n",
            "2023-06-05_15-52-38.mp4\n",
            "2023-06-05_15-06-5.mp4\n",
            "2023-06-05_15-51-04(CroppedTrimmed).mp4\n",
            "2023-06-05_15-26-56_(online-video-cutter.com).mp4\n",
            "2023-06-05_15-50-21(CroppedTrimmed).mp4\n",
            "2023-06-05_15-08-19.mp4\n",
            "2023-06-05_15-02-31.mp4\n",
            "2023-06-05_15-33-33_(online-video-cutter.com).mp4\n",
            "2023-06-05_15-32-31_(online-video-cutter.com).mp4\n",
            "2023-06-05_15-37-12(CroppedTrimmed).mp4\n",
            "2023-06-05_15-44-45(CroppedTrimmed).mp4\n",
            "2023-06-05_15-33-05_(online-video-cutter.com).mp4\n",
            "2023-06-05_15-38-18(CroppedTrimmed).mp4\n",
            "2023-06-05_15-01-36.mp4\n",
            "2023-06-05_15-22-34_(online-video-cutter.com).mp4\n",
            "2023-06-05_15-55-35.mp4\n",
            "2023-06-05_15-19-08.mp4\n",
            "2023-06-05_16-06-03.mp4\n",
            "2023-06-05_15-36-18(CroppedTrimmed).mp4\n",
            "2023-06-05_15-56-3.mp4\n",
            "2023-06-05_15-00-15.mp4\n",
            "2023-06-05_15-05-30.mp4\n",
            "2023-06-05_15-31-40_(online-video-cutter.com).mp4\n",
            "2023-06-05_15-39-13(CroppedTrimmed).mp4\n",
            "2023-06-05_15-24-09_(online-video-cutter.com).mp4\n",
            "2023-06-05_15-25-11_(online-video-cutter.com).mp4\n",
            "2023-06-05_15-30-55_(online-video-cutter.com).mp4\n",
            "2023-06-05_15-57-18.mp4\n",
            "2023-06-05_16-00-03.mp4\n",
            "2023-06-05_15-54-47.mp4\n",
            "2023-06-05_15-18-15.mp4\n",
            "2023-06-05_15-21-5.mp4\n",
            "2023-06-05_15-59-01.mp4\n",
            "2023-06-05_14-55-01.mp4\n"
          ]
        }
      ]
    },
    {
      "cell_type": "code",
      "source": [
        "import cv2\n",
        "import os\n",
        "\n",
        "# Directory containing the video files\n",
        "video_directory = '/content/drive/My Drive/Abnormal4/'\n",
        "\n",
        "# List of video file names\n",
        "video_files = [\n",
        "    \"2023-06-05_16-07-02.mp4\",\n",
        "    \"2023-06-05_16-06-03.mp4\",\n",
        "    \"2023-06-05_15-10-28.mp4\",\n",
        "    \"2023-06-05_15-49-31(CroppedTrimmed).mp4\",\n",
        "    \"2023-06-05_15-20-02.mp4\",\n",
        "    \"2023-06-05_16-07-02.mp4\",\n",
        "    \"2023-06-05_15-04-07.mp4\",\n",
        "    \"2023-06-05_15-26-03_(online-video-cutter.com).mp4\",\n",
        "    \"2023-06-05_15-09-31.mp4\",\n",
        "    \"2023-06-05_15-58-13.mp4\",\n",
        "    \"2023-06-05_15-40-03(CroppedTrimmed).mp4\",\n",
        "    \"2023-06-05_15-53-42.mp4\",\n",
        "    \"2023-06-05_15-11-47.mp4\",\n",
        "    \"2023-06-05_15-52-38.mp4\",\n",
        "\"2023-06-05_15-06-5.mp4\",\n",
        "\"2023-06-05_15-51-04(CroppedTrimmed).mp4\",\n",
        "\"2023-06-05_15-26-56_(online-video-cutter.com).mp4\",\n",
        "\"2023-06-05_15-50-21(CroppedTrimmed).mp4\",\n",
        "\"2023-06-05_15-08-19.mp4\",\n",
        "\"2023-06-05_15-02-31.mp4\",\n",
        "\"2023-06-05_15-33-33_(online-video-cutter.com).mp4\",\n",
        "\"2023-06-05_15-32-31_(online-video-cutter.com).mp4\",\n",
        "\"2023-06-05_15-37-12(CroppedTrimmed).mp4\",\n",
        "\"2023-06-05_15-44-45(CroppedTrimmed).mp4\",\n",
        "\"2023-06-05_15-33-05_(online-video-cutter.com).mp4\",\n",
        "\"2023-06-05_15-38-18(CroppedTrimmed).mp4\",\n",
        "\"2023-06-05_15-01-36.mp4\",\n",
        "\"2023-06-05_15-22-34_(online-video-cutter.com).mp4\",\n",
        "\"2023-06-05_15-55-35.mp4\",\n",
        "\"2023-06-05_15-19-08.mp4\",\n",
        "\"2023-06-05_16-06-03.mp4\",\n",
        "\"2023-06-05_15-36-18(CroppedTrimmed).mp4\",\n",
        "\"2023-06-05_15-56-3.mp4\",\n",
        "\"2023-06-05_15-00-15.mp4\",\n",
        "\"2023-06-05_15-05-30.mp4\",\n",
        "\"2023-06-05_15-31-40_(online-video-cutter.com).mp4\",\n",
        "\"2023-06-05_15-39-13(CroppedTrimmed).mp4\",\n",
        "\"2023-06-05_15-24-09_(online-video-cutter.com).mp4\",\n",
        "\"2023-06-05_15-25-11_(online-video-cutter.com).mp4\",\n",
        "\"2023-06-05_15-30-55_(online-video-cutter.com).mp4\",\n",
        "\"2023-06-05_15-57-18.mp4\",\n",
        "\"2023-06-05_16-00-03.mp4\",\n",
        "\"2023-06-05_15-54-47.mp4\",\n",
        "\"2023-06-05_15-18-15.mp4\",\n",
        "\"2023-06-05_15-21-5.mp4\",\n",
        "\"2023-06-05_15-59-01.mp4\",\n",
        "\"2023-06-05_14-55-01.mp4\"\n",
        "]\n",
        "\n",
        "# Function to count frames in a video\n",
        "def count_frames(video_path):\n",
        "    cap = cv2.VideoCapture(video_path)\n",
        "    frame_count = int(cap.get(cv2.CAP_PROP_FRAME_COUNT))\n",
        "    cap.release()\n",
        "    return frame_count\n",
        "\n",
        "# Loop through each video file and count frames\n",
        "for video in video_files:\n",
        "    video_path = os.path.join(video_directory, video)\n",
        "    frames = count_frames(video_path)\n",
        "    print(f\"{video}: {frames} frames\")\n",
        "\n",
        "# Note: Make sure the video filenames and directory are correct\n"
      ],
      "metadata": {
        "colab": {
          "base_uri": "https://localhost:8080/"
        },
        "id": "zn3tJztC6BYG",
        "outputId": "7262fb63-0b64-4a7e-fb61-e50fe7ffe2fb"
      },
      "execution_count": 5,
      "outputs": [
        {
          "output_type": "stream",
          "name": "stdout",
          "text": [
            "2023-06-05_16-07-02.mp4: 396 frames\n",
            "2023-06-05_16-06-03.mp4: 407 frames\n",
            "2023-06-05_15-10-28.mp4: 402 frames\n",
            "2023-06-05_15-49-31(CroppedTrimmed).mp4: 399 frames\n",
            "2023-06-05_15-20-02.mp4: 403 frames\n",
            "2023-06-05_16-07-02.mp4: 396 frames\n",
            "2023-06-05_15-04-07.mp4: 402 frames\n",
            "2023-06-05_15-26-03_(online-video-cutter.com).mp4: 410 frames\n",
            "2023-06-05_15-09-31.mp4: 399 frames\n",
            "2023-06-05_15-58-13.mp4: 407 frames\n",
            "2023-06-05_15-40-03(CroppedTrimmed).mp4: 417 frames\n",
            "2023-06-05_15-53-42.mp4: 412 frames\n",
            "2023-06-05_15-11-47.mp4: 413 frames\n",
            "2023-06-05_15-52-38.mp4: 404 frames\n",
            "2023-06-05_15-06-5.mp4: 397 frames\n",
            "2023-06-05_15-51-04(CroppedTrimmed).mp4: 412 frames\n",
            "2023-06-05_15-26-56_(online-video-cutter.com).mp4: 406 frames\n",
            "2023-06-05_15-50-21(CroppedTrimmed).mp4: 384 frames\n",
            "2023-06-05_15-08-19.mp4: 396 frames\n",
            "2023-06-05_15-02-31.mp4: 403 frames\n",
            "2023-06-05_15-33-33_(online-video-cutter.com).mp4: 398 frames\n",
            "2023-06-05_15-32-31_(online-video-cutter.com).mp4: 399 frames\n",
            "2023-06-05_15-37-12(CroppedTrimmed).mp4: 408 frames\n",
            "2023-06-05_15-44-45(CroppedTrimmed).mp4: 418 frames\n",
            "2023-06-05_15-33-05_(online-video-cutter.com).mp4: 398 frames\n",
            "2023-06-05_15-38-18(CroppedTrimmed).mp4: 417 frames\n",
            "2023-06-05_15-01-36.mp4: 402 frames\n",
            "2023-06-05_15-22-34_(online-video-cutter.com).mp4: 402 frames\n",
            "2023-06-05_15-55-35.mp4: 402 frames\n",
            "2023-06-05_15-19-08.mp4: 402 frames\n",
            "2023-06-05_16-06-03.mp4: 407 frames\n",
            "2023-06-05_15-36-18(CroppedTrimmed).mp4: 398 frames\n",
            "2023-06-05_15-56-3.mp4: 411 frames\n",
            "2023-06-05_15-00-15.mp4: 399 frames\n",
            "2023-06-05_15-05-30.mp4: 400 frames\n",
            "2023-06-05_15-31-40_(online-video-cutter.com).mp4: 411 frames\n",
            "2023-06-05_15-39-13(CroppedTrimmed).mp4: 402 frames\n",
            "2023-06-05_15-24-09_(online-video-cutter.com).mp4: 405 frames\n",
            "2023-06-05_15-25-11_(online-video-cutter.com).mp4: 407 frames\n",
            "2023-06-05_15-30-55_(online-video-cutter.com).mp4: 402 frames\n",
            "2023-06-05_15-57-18.mp4: 409 frames\n",
            "2023-06-05_16-00-03.mp4: 415 frames\n",
            "2023-06-05_15-54-47.mp4: 408 frames\n",
            "2023-06-05_15-18-15.mp4: 401 frames\n",
            "2023-06-05_15-21-5.mp4: 405 frames\n",
            "2023-06-05_15-59-01.mp4: 410 frames\n",
            "2023-06-05_14-55-01.mp4: 405 frames\n"
          ]
        }
      ]
    }
  ]
}